{
 "cells": [
  {
   "cell_type": "code",
   "execution_count": 1,
   "metadata": {},
   "outputs": [],
   "source": [
    "# Importar librerías para tratamiento de datos\n",
    "# -----------------------------------------------------------------------\n",
    "import pandas as pd  # Pandas es una poderosa librería para manipulación y análisis de datos en Python.\n",
    "\n",
    "# Importar librerías para web scraping y manipulación de datos\n",
    "# -----------------------------------------------------------------------\n",
    "from bs4 import BeautifulSoup\n",
    "import requests\n",
    "\n",
    "# Importar librerías para automatización de navegadores web con Selenium\n",
    "# -----------------------------------------------------------------------\n",
    "from selenium import webdriver  # Selenium es una herramienta para automatizar la interacción con navegadores web.\n",
    "from webdriver_manager.chrome import ChromeDriverManager  # ChromeDriverManager gestiona la instalación del controlador de Chrome.\n",
    "from selenium.webdriver.common.keys import Keys  # Keys es útil para simular eventos de teclado en Selenium.\n",
    "from selenium.webdriver.support.ui import Select  # Select se utiliza para interactuar con elementos <select> en páginas web.\n",
    "\n",
    "# Importar librerías para pausar la ejecución\n",
    "# -----------------------------------------------------------------------\n",
    "from time import sleep  # Sleep se utiliza para pausar la ejecución del programa por un número de segundos.\n",
    "\n",
    "# Configuraciones\n",
    "# -----------------------------------------------------------------------\n",
    "pd.set_option('display.max_columns', None)  # Establece una opción de Pandas para mostrar todas las columnas de un DataFrame."
   ]
  },
  {
   "cell_type": "markdown",
   "metadata": {},
   "source": [
    "Se hara la actividad con la pagina de Nintendo, obteniendo los datos de 5 juegos de The Legend of Zelda\n",
    "\n",
    "url : https://www.nintendo.com/es-es/"
   ]
  },
  {
   "cell_type": "markdown",
   "metadata": {},
   "source": [
    "# Pasos a realizar para la automatizacion:\n",
    "\n",
    "1. click en Buscar\n",
    "    1.1 Anadir 1 segundo de espera\n",
    "2. Nueva pagina con buscador en grande -> anadir The Legend of Zelda y dar Enter\n",
    "    2.1 Anadir 1 segundo de espera\n",
    "3. Pagina con solo 3 resultado y quiero 5 -> hago click en : Ver todos los resultados para Juegos     \n",
    "    3.1 Anadir 3 segundo de espera\n",
    "4. Extraer la info de los 5 primeros juegos:\n",
    "    4.1 Nombre del titulo\n",
    "    4.2 Plataforma (Nintendo Switch)\n",
    "    4.3 Anio lanzamiento\n",
    "    4.4 Precio\n",
    "\n",
    "\n"
   ]
  },
  {
   "cell_type": "code",
   "execution_count": null,
   "metadata": {},
   "outputs": [
    {
     "name": "stdout",
     "output_type": "stream",
     "text": [
      "click en boton buscar\n"
     ]
    }
   ],
   "source": [
    "#busqueda = input(\"Que quieres buscar?\")\n",
    "\n",
    "#sleep(5)\n",
    "\n",
    "# Inicializamos el driver\n",
    "driver = webdriver.Chrome()\n",
    "\n",
    "#  maximizar ventana navegaador\n",
    "driver.maximize_window()\n",
    "\n",
    "# entrar en la web\n",
    "driver.get(\"https://www.nintendo.com/es-es/\")\n",
    "\n",
    "# sleep 2 segundos para dar tiempo a que la pag cargue antes de darle el click\n",
    "sleep(2)\n",
    "\n",
    "# Hacer click en buscar\n",
    "print(\"click en boton buscar\")\n",
    "driver.find_element(\"css selector\", \"body > div.main-navbar-wrapper.nrd8.srch8 > header > nav > ul > li.plo-header__nav-item.plo-header__nav-item--search > button\").click()\n",
    "print(\"click hecho\")\n",
    "\n"
   ]
  },
  {
   "cell_type": "code",
   "execution_count": null,
   "metadata": {},
   "outputs": [],
   "source": [
    "\n",
    "\n",
    "#VA_MainSearch > div:nth-child(2) > div > div > div.col-xs-12.col-sm-9.col-lg-9 > ul > li:nth-child(2) > div > div > a > div.search-result-txt.col-xs-9.col-sm-10 > div:nth-child(2) > p.page-data > span.hidden-xs.hidden-sm > span > span:nth-child(2)\n",
    "#VA_MainSearch > div:nth-child(2) > div > div > div.col-xs-12.col-sm-9.col-lg-9 > ul > li:nth-child(2) > div > div > a > div.search-result-txt.col-xs-9.col-sm-10 > div:nth-child(2) > p.page-data > span.hidden-xs.hidden-sm > span > span:nth-child(1)\n",
    "#VA_MainSearch > div:nth-child(2) > div > div > div.col-xs-12.col-sm-9.col-lg-9 > ul > li:nth-child(2) > div > div > a > div.search-result-txt.col-xs-9.col-sm-10 > div:nth-child(2) > p.page-data > span.hidden-xs.hidden-sm > span > span:nth-child(2)\n",
    "#VA_MainSearch > div:nth-child(2) > div > div > div.col-xs-12.col-sm-9.col-lg-9 > ul > li:nth-child(2) > div > div > a > div.search-result-txt.col-xs-9.col-sm-10 > div:nth-child(2) > p.page-data > span.hidden-xs.hidden-sm > span > span:nth-child(1)"
   ]
  }
 ],
 "metadata": {
  "kernelspec": {
   "display_name": "Python 3",
   "language": "python",
   "name": "python3"
  },
  "language_info": {
   "codemirror_mode": {
    "name": "ipython",
    "version": 3
   },
   "file_extension": ".py",
   "mimetype": "text/x-python",
   "name": "python",
   "nbconvert_exporter": "python",
   "pygments_lexer": "ipython3",
   "version": "3.11.9"
  }
 },
 "nbformat": 4,
 "nbformat_minor": 2
}
